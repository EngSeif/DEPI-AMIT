{
 "cells": [
  {
   "cell_type": "markdown",
   "id": "2273994f",
   "metadata": {},
   "source": [
    "## Data Struture Assignment"
   ]
  },
  {
   "cell_type": "markdown",
   "id": "2bb9e4cc",
   "metadata": {},
   "source": [
    "### Queue"
   ]
  },
  {
   "cell_type": "markdown",
   "id": "efab821c",
   "metadata": {},
   "source": [
    "Implement Queue class using linked list (is empty - dequeue)"
   ]
  },
  {
   "cell_type": "code",
   "execution_count": 7,
   "id": "5e076eab",
   "metadata": {},
   "outputs": [],
   "source": [
    "class Node:\n",
    "    def __init__(self, data):\n",
    "        self.data = data\n",
    "        self.next = None\n",
    "\n",
    "class Queue:\n",
    "    def __init__(self):\n",
    "        self.front = self.rear = None\n",
    "\n",
    "    def is_empty(self):\n",
    "        # TODO: Implement this method to check if the queue is empty.\n",
    "        # Done\n",
    "        return (self.front is None) and (self.rear is None)\n",
    "            \n",
    "\n",
    "    def enqueue(self, data):\n",
    "        new_node = Node(data)\n",
    "        if self.rear is None:\n",
    "            self.front = self.rear = new_node\n",
    "            return\n",
    "        self.rear.next = new_node\n",
    "        self.rear = new_node\n",
    "\n",
    "    def dequeue(self):\n",
    "        # TODO: Implement this method to remove and return the front element of the queue.\n",
    "        # If the queue is empty, return None.\n",
    "        # Done\n",
    "        if self.is_empty():\n",
    "            return None\n",
    "        if self.front == self.rear:\n",
    "            d_node = self.front\n",
    "            self.front = self.rear = None\n",
    "            return d_node.data\n",
    "        d_node = self.front\n",
    "        self.front = self.front.next\n",
    "        return d_node.data"
   ]
  },
  {
   "cell_type": "markdown",
   "id": "8ff4a7ab",
   "metadata": {},
   "source": [
    "### Queue Test Cases"
   ]
  },
  {
   "cell_type": "code",
   "execution_count": 9,
   "id": "aa2430b4",
   "metadata": {},
   "outputs": [
    {
     "name": "stdout",
     "output_type": "stream",
     "text": [
      "All test cases passed!\n"
     ]
    }
   ],
   "source": [
    "q = Queue()\n",
    "assert q.is_empty() == True, \"Test 1 Failed: Queue should be empty initially\"\n",
    "q.enqueue(10)\n",
    "assert q.is_empty() == False, \"Test 2 Failed: Queue should not be empty after enqueue\"\n",
    "q.dequeue()\n",
    "assert q.is_empty() == True, \"Test 3 Failed: Queue should be empty after dequeue\"\n",
    "\n",
    "q = Queue()\n",
    "assert q.dequeue() == None, \"Test 4 Failed: Dequeue on empty queue should return None\"\n",
    "\n",
    "q.enqueue(\"A\")\n",
    "q.enqueue(\"B\")\n",
    "assert q.dequeue() == \"A\", \"Test 5 Failed: First dequeue should return 'A'\"\n",
    "assert q.dequeue() == \"B\", \"Test 6 Failed: Second dequeue should return 'B'\"\n",
    "assert q.dequeue() == None, \"Test 7 Failed: Dequeue on empty queue should return None\"\n",
    "\n",
    "# Test front/rear pointers after dequeues\n",
    "q.enqueue(1)\n",
    "q.enqueue(2)\n",
    "q.dequeue()\n",
    "assert q.front.data == 2, \"Test 8 Failed: Front should update to 2\"\n",
    "assert q.rear.data == 2, \"Test 9 Failed: Rear should update to 2\"\n",
    "q.dequeue()\n",
    "assert q.front == None, \"Test 10 Failed: Front should be None\"\n",
    "assert q.rear == None, \"Test 11 Failed: Rear should be None\"\n",
    "\n",
    "print(\"All test cases passed!\")"
   ]
  },
  {
   "cell_type": "markdown",
   "id": "7a0bf7a5",
   "metadata": {},
   "source": [
    "### Hash Table"
   ]
  },
  {
   "cell_type": "markdown",
   "id": "5a3e9cef",
   "metadata": {},
   "source": [
    "Implement the get() and delete() methods in the HashTable class to handle collisions correctly"
   ]
  },
  {
   "cell_type": "code",
   "execution_count": 12,
   "id": "97e9edff",
   "metadata": {},
   "outputs": [],
   "source": [
    "class HashTable:\n",
    "    def __init__(self, size=10):\n",
    "        self.size = size\n",
    "        self.table = [[] for _ in range(size)]  # Chaining for collision resolution\n",
    "\n",
    "    def _hash(self, key):\n",
    "        return hash(key) % self.size\n",
    "\n",
    "    def insert(self, key, value):\n",
    "        hash_key = self._hash(key)\n",
    "        for i, (k, v) in enumerate(self.table[hash_key]):\n",
    "            if k == key:  # Update existing key\n",
    "                self.table[hash_key][i] = (key, value)\n",
    "                return\n",
    "        self.table[hash_key].append((key, value))  # Add new key-value pair\n",
    "\n",
    "    def get(self, key):\n",
    "        # TODO: implement this method to return the value associated with key.\n",
    "        # If key doesn't exist, return None.\n",
    "        # Done\n",
    "        hash_key = self._hash(key)\n",
    "        for i, (k, v) in enumerate(self.table[hash_key]):\n",
    "            if k == key:\n",
    "                return v\n",
    "        return None\n",
    "\n",
    "    def delete(self, key):\n",
    "        # TODO: Implemet this method to delete the key-value pair and returns the deleted value.\n",
    "        # If key doesn't exist, return None.\n",
    "        hash_key = self._hash(key)\n",
    "        for i, (k, v) in enumerate(self.table[hash_key]):\n",
    "            if k == key:\n",
    "                self.table[hash_key].pop(i)\n",
    "                return v\n",
    "        return None"
   ]
  },
  {
   "cell_type": "markdown",
   "id": "ecd58692",
   "metadata": {},
   "source": [
    "### Hash Table Test Cases"
   ]
  },
  {
   "cell_type": "code",
   "execution_count": 13,
   "id": "ce07673a",
   "metadata": {},
   "outputs": [
    {
     "name": "stdout",
     "output_type": "stream",
     "text": [
      "All test cases passed!\n"
     ]
    }
   ],
   "source": [
    "# Initialize a hash table\n",
    "ht = HashTable()\n",
    "\n",
    "# Test 1: Get non-existent key\n",
    "assert ht.get(\"invalid_key\") is None, \"Test 1 Failed: Non-existent key should return None\"\n",
    "\n",
    "# Test 2: Insert and get a key (no collision)\n",
    "ht.insert(\"name\", \"Alice\")\n",
    "assert ht.get(\"name\") == \"Alice\", \"Test 2 Failed: Should return 'Alice'\"\n",
    "\n",
    "# Test 3: Update existing key\n",
    "ht.insert(\"name\", \"Bob\")\n",
    "assert ht.get(\"name\") == \"Bob\", \"Test 3 Failed: Should return updated value 'Bob'\"\n",
    "\n",
    "# Test 4: Delete non-existent key\n",
    "assert ht.delete(\"ghost\") is None, \"Test 4 Failed: Should return None\"\n",
    "\n",
    "# Test 5: Delete existing key\n",
    "ht.insert(\"age\", 25)\n",
    "assert ht.delete(\"age\") == 25, \"Test 5 Failed: Should return deleted value 25\"\n",
    "assert ht.get(\"age\") is None, \"Test 6 Failed: 'age' should no longer exist\"\n",
    "\n",
    "# Test 6: Collision handling (assume \"x\" and \"y\" collide)\n",
    "ht.insert(\"x\", 1)\n",
    "ht.insert(\"y\", 2)\n",
    "assert ht.delete(\"x\") == 1, \"Test 7 Failed: Should return deleted value 1\"\n",
    "assert ht.get(\"x\") is None, \"Test 8 Failed: 'x' should be removed\"\n",
    "assert ht.get(\"y\") == 2, \"Test 9 Failed: Colliding key 'y' should still exist\"\n",
    "\n",
    "print(\"All test cases passed!\")"
   ]
  }
 ],
 "metadata": {
  "kernelspec": {
   "display_name": "Python 3",
   "language": "python",
   "name": "python3"
  },
  "language_info": {
   "codemirror_mode": {
    "name": "ipython",
    "version": 3
   },
   "file_extension": ".py",
   "mimetype": "text/x-python",
   "name": "python",
   "nbconvert_exporter": "python",
   "pygments_lexer": "ipython3",
   "version": "3.12.10"
  }
 },
 "nbformat": 4,
 "nbformat_minor": 5
}
