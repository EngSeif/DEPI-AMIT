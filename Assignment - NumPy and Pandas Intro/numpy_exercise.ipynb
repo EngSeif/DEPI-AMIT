{
 "cells": [
  {
   "cell_type": "markdown",
   "metadata": {},
   "source": [
    "# NumPy Exercise"
   ]
  },
  {
   "cell_type": "code",
   "execution_count": null,
   "metadata": {},
   "outputs": [],
   "source": [
    "# Make Sure Numpy is imported Correctly imported\n",
    "\n",
    "try:\n",
    "    import numpy as np\n",
    "except ImportError:\n",
    "    print(\"Installing Numpy\")\n",
    "    import subprocess\n",
    "    import sys\n",
    "    subprocess.check_call([sys.executable, \"-m\", \"pip\", \"install\", \"numpy\"])\n",
    "    print(\"Numpy Installed Sucessfully\")\n",
    "    import numpy as np"
   ]
  },
  {
   "cell_type": "markdown",
   "metadata": {},
   "source": [
    "### Q1: create 2D-array that contain even numbers between 0-18"
   ]
  },
  {
   "cell_type": "code",
   "execution_count": 34,
   "metadata": {},
   "outputs": [
    {
     "data": {
      "text/plain": [
       "array([ 0,  2,  4,  6,  8, 10, 12, 14, 16, 18])"
      ]
     },
     "execution_count": 34,
     "metadata": {},
     "output_type": "execute_result"
    }
   ],
   "source": [
    "np.arange(0, 19, 2)"
   ]
  },
  {
   "cell_type": "markdown",
   "metadata": {},
   "source": [
    "### Q2: Replace the negative values with 0 in random array that has value in range (-6,6)"
   ]
  },
  {
   "cell_type": "code",
   "execution_count": 35,
   "metadata": {},
   "outputs": [
    {
     "name": "stdout",
     "output_type": "stream",
     "text": [
      "Orignal Array :\n",
      "[-2  2  6 -5  2  0] \n",
      "\n",
      "\n",
      "Modified Array :\n",
      "[0 2 6 0 2 0]\n"
     ]
    }
   ],
   "source": [
    "# init a random array of size 6 ranging between -6 and 6\n",
    "random_arr = np.random.randint(low=-6, high=7, size=(6))\n",
    "\n",
    "# Orignal Array\n",
    "print(\"Orignal Array :\")\n",
    "print(random_arr, \"\\n\\n\")\n",
    "\n",
    "# Replace Negative With 0\n",
    "random_arr[random_arr < 0] = 0\n",
    "\n",
    "# Modified Array\n",
    "print(\"Modified Array :\")\n",
    "print(random_arr)"
   ]
  },
  {
   "cell_type": "markdown",
   "metadata": {},
   "source": [
    "### Q3: How to compute the following expression?\n",
    "\n",
    "$$(A + B) \\times \\left( \\frac{-A}{2} \\right)$$\n",
    "\n",
    "Where `A` and `B` are NumPy random arrays."
   ]
  },
  {
   "cell_type": "code",
   "execution_count": 36,
   "metadata": {},
   "outputs": [
    {
     "name": "stdout",
     "output_type": "stream",
     "text": [
      "Arrays A and B\n",
      "A :  [4 8 2 0 9 0]\n",
      "B :  [6 0 5 8 5 6]\n",
      "Result :  [-20. -32.  -7.  -0. -63.  -0.]\n"
     ]
    }
   ],
   "source": [
    "# Init Arrays A and B\n",
    "\n",
    "A = np.random.randint(low=0, high=11, size=(6))\n",
    "B = np.random.randint(low=0, high=11, size=(6))\n",
    "\n",
    "# Print Arrays\n",
    "print(\"Arrays A and B\")\n",
    "print(\"A : \", A)\n",
    "print(\"B : \", B)\n",
    "\n",
    "# Calulate Expression\n",
    "R = (A + B) * (A / -2)\n",
    "\n",
    "# Print Result\n",
    "print(\"Result : \", R)"
   ]
  },
  {
   "cell_type": "markdown",
   "metadata": {},
   "source": [
    "### Q4: How to concatenate two arrays horizontally?"
   ]
  },
  {
   "cell_type": "code",
   "execution_count": 47,
   "metadata": {},
   "outputs": [
    {
     "name": "stdout",
     "output_type": "stream",
     "text": [
      "Arrays X and Y\n",
      "X :  [8 7 1 2 5 1]\n",
      "Y :  [2 3 8 6 5 8]\n",
      "\n",
      "First Way : Use np.hstack()\n",
      "H :  [8 7 1 2 5 1 2 3 8 6 5 8]\n",
      "\n",
      "Seocnd Way : Use np.concatenate()\n",
      "C :  [8 7 1 2 5 1 2 3 8 6 5 8]\n"
     ]
    }
   ],
   "source": [
    "# Init Arrays X and Y\n",
    "\n",
    "X = np.random.randint(low=0, high=11, size=(6))\n",
    "Y = np.random.randint(low=0, high=11, size=(6))\n",
    "\n",
    "# Print Arrays\n",
    "print(\"Arrays X and Y\")\n",
    "print(\"X : \", X)\n",
    "print(\"Y : \", Y)\n",
    "\n",
    "# 1st Way : Use Hstack\n",
    "# concat horizontally\n",
    "h = np.hstack([X, Y])\n",
    "\n",
    "print(\"\\nFirst Way : Use np.hstack()\")\n",
    "print(\"H : \", h)\n",
    "\n",
    "# 2nd Way : Use np.concatenate()\n",
    "c = np.concatenate((X, Y))\n",
    "\n",
    "print(\"\\nSeocnd Way : Use np.concatenate()\")\n",
    "print(\"C : \", c)"
   ]
  },
  {
   "cell_type": "markdown",
   "metadata": {},
   "source": [
    "### Q5: Create a array vector of size 3x3 and sort values in Its columns"
   ]
  },
  {
   "cell_type": "code",
   "execution_count": 56,
   "metadata": {},
   "outputs": [
    {
     "name": "stdout",
     "output_type": "stream",
     "text": [
      "matrix Before Sort: \n",
      "[[4 3 1]\n",
      " [6 7 8]\n",
      " [2 9 0]]\n",
      "\n",
      "matrix After Sort: \n",
      "[[2 3 0]\n",
      " [4 7 1]\n",
      " [6 9 8]]\n"
     ]
    }
   ],
   "source": [
    "# Init Matrix 3x3\n",
    "matrix = np.random.randint(low=0, high=11, size=(3,3))\n",
    "\n",
    "# Matrix Before Sort\n",
    "print(\"matrix Before Sort: \")\n",
    "print(matrix)\n",
    "\n",
    "# Sort According To Columns \"axis = 0\"\n",
    "x = np.sort(matrix, axis=0)\n",
    "\n",
    "print(\"\\nmatrix After Sort: \")\n",
    "print(x)"
   ]
  }
 ],
 "metadata": {
  "kernelspec": {
   "display_name": "Python 3",
   "language": "python",
   "name": "python3"
  },
  "language_info": {
   "codemirror_mode": {
    "name": "ipython",
    "version": 3
   },
   "file_extension": ".py",
   "mimetype": "text/x-python",
   "name": "python",
   "nbconvert_exporter": "python",
   "pygments_lexer": "ipython3",
   "version": "3.12.4"
  }
 },
 "nbformat": 4,
 "nbformat_minor": 4
}
