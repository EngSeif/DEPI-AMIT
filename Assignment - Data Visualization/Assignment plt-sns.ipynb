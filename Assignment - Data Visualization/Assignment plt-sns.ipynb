{
 "cells": [
  {
   "cell_type": "markdown",
   "id": "d5d3c22f05700f62",
   "metadata": {},
   "source": [
    "# Assignment: Data Visualization"
   ]
  },
  {
   "cell_type": "markdown",
   "id": "0c5257b4",
   "metadata": {},
   "source": [
    "#### Import Libraries"
   ]
  },
  {
   "cell_type": "code",
   "execution_count": 3,
   "id": "5c5499dfd4df74d2",
   "metadata": {},
   "outputs": [],
   "source": [
    "try:\n",
    "    import pandas as pd\n",
    "    import matplotlib as plt\n",
    "except ImportError:\n",
    "    ! pip install pandas matplotlib"
   ]
  },
  {
   "cell_type": "markdown",
   "id": "7decaa33a504e500",
   "metadata": {},
   "source": [
    "## Note\n",
    "- Provided Data is merged with the data on kaggle it starts from id 1 up to 1309 "
   ]
  },
  {
   "cell_type": "code",
   "execution_count": null,
   "id": "e58a8cf1f9acab62",
   "metadata": {},
   "outputs": [],
   "source": []
  },
  {
   "cell_type": "code",
   "execution_count": null,
   "id": "ede60f15eac6b0f1",
   "metadata": {},
   "outputs": [],
   "source": []
  },
  {
   "cell_type": "code",
   "execution_count": null,
   "id": "598460fdc3d3302e",
   "metadata": {},
   "outputs": [],
   "source": []
  }
 ],
 "metadata": {
  "kernelspec": {
   "display_name": "Python 3",
   "language": "python",
   "name": "python3"
  },
  "language_info": {
   "codemirror_mode": {
    "name": "ipython",
    "version": 3
   },
   "file_extension": ".py",
   "mimetype": "text/x-python",
   "name": "python",
   "nbconvert_exporter": "python",
   "pygments_lexer": "ipython3",
   "version": "3.12.10"
  }
 },
 "nbformat": 4,
 "nbformat_minor": 5
}
